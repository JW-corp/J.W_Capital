{
 "cells": [
  {
   "cell_type": "code",
   "execution_count": 6,
   "metadata": {},
   "outputs": [],
   "source": [
    "import numpy as np\n",
    "from fredapi import Fred"
   ]
  },
  {
   "cell_type": "markdown",
   "metadata": {},
   "source": [
    "get API Key here https://fred.stlouisfed.org/docs/api/api_key.html"
   ]
  },
  {
   "cell_type": "code",
   "execution_count": 8,
   "metadata": {},
   "outputs": [],
   "source": [
    "API_KEY=\"81944ec330e8dfe12266c39dddd3a229\" \n",
    "fred = Fred(API_KEY)"
   ]
  },
  {
   "cell_type": "code",
   "execution_count": 156,
   "metadata": {},
   "outputs": [
    {
     "data": {
      "text/plain": [
       "1962-01-02    4.06\n",
       "1962-01-03    4.03\n",
       "1962-01-04    3.99\n",
       "1962-01-05    4.02\n",
       "1962-01-08    4.03\n",
       "              ... \n",
       "2022-03-29    2.41\n",
       "2022-03-30    2.35\n",
       "2022-03-31    2.32\n",
       "2022-04-01    2.38\n",
       "2022-04-04    2.42\n",
       "Length: 15720, dtype: float64"
      ]
     },
     "execution_count": 156,
     "metadata": {},
     "output_type": "execute_result"
    }
   ],
   "source": [
    "us10 = fred.get_series('DGS10')\n",
    "us10"
   ]
  },
  {
   "cell_type": "markdown",
   "metadata": {},
   "source": [
    "### 1. 무위험 이자 수익률 계산\n",
    "- year 과 month 를 기준으로 평균값을 구해서 정리, 최근 1년치\n",
    "- 10년만기 국채의 년평균 이율을 계산한다 "
   ]
  },
  {
   "cell_type": "code",
   "execution_count": 157,
   "metadata": {},
   "outputs": [
    {
     "data": {
      "text/plain": [
       "2022  1    1.764000\n",
       "      2    1.934211\n",
       "      3    2.127826\n",
       "      4    2.400000\n",
       "dtype: float64"
      ]
     },
     "execution_count": 157,
     "metadata": {},
     "output_type": "execute_result"
    }
   ],
   "source": [
    "us10 = us10.groupby([us10.index.year, us10.index.month]).mean().iloc[-4:]\n",
    "us10"
   ]
  },
  {
   "cell_type": "code",
   "execution_count": 158,
   "metadata": {},
   "outputs": [],
   "source": [
    "risk_free_rate = us10.mean() / 100"
   ]
  },
  {
   "cell_type": "markdown",
   "metadata": {},
   "source": [
    "### 2. 베타값 계산"
   ]
  },
  {
   "cell_type": "code",
   "execution_count": null,
   "metadata": {},
   "outputs": [],
   "source": [
    "!pip install yahoo_fin --upgrade"
   ]
  },
  {
   "cell_type": "code",
   "execution_count": 40,
   "metadata": {},
   "outputs": [],
   "source": [
    "from yahoo_fin.stock_info import *\n",
    "from datetime import datetime\n",
    "from dateutil.relativedelta import relativedelta"
   ]
  },
  {
   "cell_type": "code",
   "execution_count": 159,
   "metadata": {},
   "outputs": [],
   "source": [
    "# 5년전 \n",
    "start = datetime.now() - relativedelta(years=5)"
   ]
  },
  {
   "cell_type": "code",
   "execution_count": 160,
   "metadata": {},
   "outputs": [
    {
     "data": {
      "text/plain": [
       "2017-05-01    2411.800049\n",
       "2017-06-01    2423.409912\n",
       "2017-07-01    2470.300049\n",
       "2017-08-01    2471.649902\n",
       "2017-09-01    2519.360107\n",
       "                 ...     \n",
       "2022-01-01    4515.549805\n",
       "2022-02-01    4373.939941\n",
       "2022-03-01    4530.410156\n",
       "2022-04-01    4525.120117\n",
       "2022-04-06    4463.339844\n",
       "Name: adjclose, Length: 61, dtype: float64"
      ]
     },
     "execution_count": 160,
     "metadata": {},
     "output_type": "execute_result"
    }
   ],
   "source": [
    "# SNP 를 월단위로 끊어서 5년치를 들고와라\n",
    "snp = get_data(\"^GSPC\",start_date=start,interval=\"1mo\")['adjclose'].dropna()\n",
    "snp"
   ]
  },
  {
   "cell_type": "code",
   "execution_count": 161,
   "metadata": {},
   "outputs": [
    {
     "data": {
      "text/plain": [
       "2017  5     2411.800049\n",
       "      6     2423.409912\n",
       "      7     2470.300049\n",
       "      8     2471.649902\n",
       "      9     2519.360107\n",
       "      10    2575.260010\n",
       "      11    2647.580078\n",
       "      12    2673.610107\n",
       "2018  1     2823.810059\n",
       "      2     2713.830078\n",
       "      3     2640.870117\n",
       "      4     2648.050049\n",
       "      5     2705.270020\n",
       "      6     2718.370117\n",
       "      7     2816.290039\n",
       "      8     2901.520020\n",
       "      9     2913.979980\n",
       "      10    2711.739990\n",
       "      11    2760.169922\n",
       "      12    2506.850098\n",
       "2019  1     2704.100098\n",
       "      2     2784.489990\n",
       "      3     2834.399902\n",
       "      4     2945.830078\n",
       "      5     2752.060059\n",
       "      6     2941.760010\n",
       "      7     2980.379883\n",
       "      8     2926.459961\n",
       "      9     2976.739990\n",
       "      10    3037.560059\n",
       "      11    3140.979980\n",
       "      12    3230.780029\n",
       "2020  1     3225.520020\n",
       "      2     2954.219971\n",
       "      3     2584.590088\n",
       "      4     2912.429932\n",
       "      5     3044.310059\n",
       "      6     3100.290039\n",
       "      7     3271.120117\n",
       "      8     3500.310059\n",
       "      9     3363.000000\n",
       "      10    3269.959961\n",
       "      11    3621.629883\n",
       "      12    3756.070068\n",
       "2021  1     3714.239990\n",
       "      2     3811.149902\n",
       "      3     3972.889893\n",
       "      4     4181.169922\n",
       "      5     4204.109863\n",
       "      6     4297.500000\n",
       "      7     4395.259766\n",
       "      8     4522.680176\n",
       "      9     4307.540039\n",
       "      10    4605.379883\n",
       "      11    4567.000000\n",
       "      12    4766.180176\n",
       "2022  1     4515.549805\n",
       "      2     4373.939941\n",
       "      3     4530.410156\n",
       "      4     4525.120117\n",
       "Name: adjclose, dtype: float64"
      ]
     },
     "execution_count": 161,
     "metadata": {},
     "output_type": "execute_result"
    }
   ],
   "source": [
    "# SNP 년,월 단위로 그룹지어라\n",
    "snp = snp.groupby([snp.index.year, snp.index.month]).first()\n",
    "snp"
   ]
  },
  {
   "cell_type": "code",
   "execution_count": 162,
   "metadata": {},
   "outputs": [
    {
     "data": {
      "text/plain": [
       "2017  6     0.004814\n",
       "      7     0.019349\n",
       "      8     0.000546\n",
       "      9     0.019303\n",
       "      10    0.022188\n",
       "      11    0.028083\n",
       "      12    0.009832\n",
       "2018  1     0.056179\n",
       "      2    -0.038947\n",
       "      3    -0.026884\n",
       "      4     0.002719\n",
       "      5     0.021608\n",
       "      6     0.004842\n",
       "      7     0.036022\n",
       "      8     0.030263\n",
       "      9     0.004294\n",
       "      10   -0.069403\n",
       "      11    0.017859\n",
       "      12   -0.091777\n",
       "2019  1     0.078684\n",
       "      2     0.029729\n",
       "      3     0.017924\n",
       "      4     0.039313\n",
       "      5    -0.065778\n",
       "      6     0.068930\n",
       "      7     0.013128\n",
       "      8    -0.018092\n",
       "      9     0.017181\n",
       "      10    0.020432\n",
       "      11    0.034047\n",
       "      12    0.028590\n",
       "2020  1    -0.001628\n",
       "      2    -0.084110\n",
       "      3    -0.125119\n",
       "      4     0.126844\n",
       "      5     0.045282\n",
       "      6     0.018388\n",
       "      7     0.055101\n",
       "      8     0.070065\n",
       "      9    -0.039228\n",
       "      10   -0.027666\n",
       "      11    0.107546\n",
       "      12    0.037121\n",
       "2021  1    -0.011137\n",
       "      2     0.026091\n",
       "      3     0.042439\n",
       "      4     0.052425\n",
       "      5     0.005486\n",
       "      6     0.022214\n",
       "      7     0.022748\n",
       "      8     0.028990\n",
       "      9    -0.047569\n",
       "      10    0.069144\n",
       "      11   -0.008334\n",
       "      12    0.043613\n",
       "2022  1    -0.052585\n",
       "      2    -0.031360\n",
       "      3     0.035773\n",
       "      4    -0.001168\n",
       "Name: adjclose, dtype: float64"
      ]
     },
     "execution_count": 162,
     "metadata": {},
     "output_type": "execute_result"
    }
   ],
   "source": [
    "# SNP의 수익률\n",
    "snp_return = snp.pct_change().dropna()\n",
    "snp_return"
   ]
  },
  {
   "cell_type": "code",
   "execution_count": 163,
   "metadata": {},
   "outputs": [],
   "source": [
    "# 분석기업인 인모드도 수익률을 SNP와 같은 방법으로 계산 \n",
    "INMD = get_data(\"INMD\",start_date=start,interval=\"1mo\")['adjclose'].dropna()\n",
    "INMD = INMD.groupby([INMD.index.year, INMD.index.month]).first()\n",
    "INMD_return = INMD.pct_change().dropna()"
   ]
  },
  {
   "cell_type": "code",
   "execution_count": 164,
   "metadata": {},
   "outputs": [
    {
     "data": {
      "text/html": [
       "<div>\n",
       "<style scoped>\n",
       "    .dataframe tbody tr th:only-of-type {\n",
       "        vertical-align: middle;\n",
       "    }\n",
       "\n",
       "    .dataframe tbody tr th {\n",
       "        vertical-align: top;\n",
       "    }\n",
       "\n",
       "    .dataframe thead th {\n",
       "        text-align: right;\n",
       "    }\n",
       "</style>\n",
       "<table border=\"1\" class=\"dataframe\">\n",
       "  <thead>\n",
       "    <tr style=\"text-align: right;\">\n",
       "      <th></th>\n",
       "      <th></th>\n",
       "      <th>adjclose</th>\n",
       "      <th>adjclose_snp</th>\n",
       "    </tr>\n",
       "  </thead>\n",
       "  <tbody>\n",
       "    <tr>\n",
       "      <th rowspan=\"3\" valign=\"top\">2019</th>\n",
       "      <th>10</th>\n",
       "      <td>0.430033</td>\n",
       "      <td>0.020432</td>\n",
       "    </tr>\n",
       "    <tr>\n",
       "      <th>11</th>\n",
       "      <td>0.646944</td>\n",
       "      <td>0.034047</td>\n",
       "    </tr>\n",
       "    <tr>\n",
       "      <th>12</th>\n",
       "      <td>-0.226214</td>\n",
       "      <td>0.028590</td>\n",
       "    </tr>\n",
       "    <tr>\n",
       "      <th rowspan=\"12\" valign=\"top\">2020</th>\n",
       "      <th>1</th>\n",
       "      <td>0.105357</td>\n",
       "      <td>-0.001628</td>\n",
       "    </tr>\n",
       "    <tr>\n",
       "      <th>2</th>\n",
       "      <td>-0.239788</td>\n",
       "      <td>-0.084110</td>\n",
       "    </tr>\n",
       "    <tr>\n",
       "      <th>3</th>\n",
       "      <td>-0.347298</td>\n",
       "      <td>-0.125119</td>\n",
       "    </tr>\n",
       "    <tr>\n",
       "      <th>4</th>\n",
       "      <td>0.210233</td>\n",
       "      <td>0.126844</td>\n",
       "    </tr>\n",
       "    <tr>\n",
       "      <th>5</th>\n",
       "      <td>0.126441</td>\n",
       "      <td>0.045282</td>\n",
       "    </tr>\n",
       "    <tr>\n",
       "      <th>6</th>\n",
       "      <td>-0.033777</td>\n",
       "      <td>0.018388</td>\n",
       "    </tr>\n",
       "    <tr>\n",
       "      <th>7</th>\n",
       "      <td>0.142655</td>\n",
       "      <td>0.055101</td>\n",
       "    </tr>\n",
       "    <tr>\n",
       "      <th>8</th>\n",
       "      <td>-0.022559</td>\n",
       "      <td>0.070065</td>\n",
       "    </tr>\n",
       "    <tr>\n",
       "      <th>9</th>\n",
       "      <td>0.143851</td>\n",
       "      <td>-0.039228</td>\n",
       "    </tr>\n",
       "    <tr>\n",
       "      <th>10</th>\n",
       "      <td>0.010503</td>\n",
       "      <td>-0.027666</td>\n",
       "    </tr>\n",
       "    <tr>\n",
       "      <th>11</th>\n",
       "      <td>0.178337</td>\n",
       "      <td>0.107546</td>\n",
       "    </tr>\n",
       "    <tr>\n",
       "      <th>12</th>\n",
       "      <td>0.102136</td>\n",
       "      <td>0.037121</td>\n",
       "    </tr>\n",
       "    <tr>\n",
       "      <th rowspan=\"12\" valign=\"top\">2021</th>\n",
       "      <th>1</th>\n",
       "      <td>0.239680</td>\n",
       "      <td>-0.011137</td>\n",
       "    </tr>\n",
       "    <tr>\n",
       "      <th>2</th>\n",
       "      <td>0.171594</td>\n",
       "      <td>0.026091</td>\n",
       "    </tr>\n",
       "    <tr>\n",
       "      <th>3</th>\n",
       "      <td>0.049449</td>\n",
       "      <td>0.042439</td>\n",
       "    </tr>\n",
       "    <tr>\n",
       "      <th>4</th>\n",
       "      <td>0.192898</td>\n",
       "      <td>0.052425</td>\n",
       "    </tr>\n",
       "    <tr>\n",
       "      <th>5</th>\n",
       "      <td>-0.011236</td>\n",
       "      <td>0.005486</td>\n",
       "    </tr>\n",
       "    <tr>\n",
       "      <th>6</th>\n",
       "      <td>0.109185</td>\n",
       "      <td>0.022214</td>\n",
       "    </tr>\n",
       "    <tr>\n",
       "      <th>7</th>\n",
       "      <td>0.200570</td>\n",
       "      <td>0.022748</td>\n",
       "    </tr>\n",
       "    <tr>\n",
       "      <th>8</th>\n",
       "      <td>0.151403</td>\n",
       "      <td>0.028990</td>\n",
       "    </tr>\n",
       "    <tr>\n",
       "      <th>9</th>\n",
       "      <td>0.218291</td>\n",
       "      <td>-0.047569</td>\n",
       "    </tr>\n",
       "    <tr>\n",
       "      <th>10</th>\n",
       "      <td>0.188335</td>\n",
       "      <td>0.069144</td>\n",
       "    </tr>\n",
       "    <tr>\n",
       "      <th>11</th>\n",
       "      <td>-0.197804</td>\n",
       "      <td>-0.008334</td>\n",
       "    </tr>\n",
       "    <tr>\n",
       "      <th>12</th>\n",
       "      <td>-0.071316</td>\n",
       "      <td>0.043613</td>\n",
       "    </tr>\n",
       "    <tr>\n",
       "      <th rowspan=\"4\" valign=\"top\">2022</th>\n",
       "      <th>1</th>\n",
       "      <td>-0.316662</td>\n",
       "      <td>-0.052585</td>\n",
       "    </tr>\n",
       "    <tr>\n",
       "      <th>2</th>\n",
       "      <td>-0.114866</td>\n",
       "      <td>-0.031360</td>\n",
       "    </tr>\n",
       "    <tr>\n",
       "      <th>3</th>\n",
       "      <td>-0.135395</td>\n",
       "      <td>0.035773</td>\n",
       "    </tr>\n",
       "    <tr>\n",
       "      <th>4</th>\n",
       "      <td>-0.039014</td>\n",
       "      <td>-0.001168</td>\n",
       "    </tr>\n",
       "  </tbody>\n",
       "</table>\n",
       "</div>"
      ],
      "text/plain": [
       "         adjclose  adjclose_snp\n",
       "2019 10  0.430033      0.020432\n",
       "     11  0.646944      0.034047\n",
       "     12 -0.226214      0.028590\n",
       "2020 1   0.105357     -0.001628\n",
       "     2  -0.239788     -0.084110\n",
       "     3  -0.347298     -0.125119\n",
       "     4   0.210233      0.126844\n",
       "     5   0.126441      0.045282\n",
       "     6  -0.033777      0.018388\n",
       "     7   0.142655      0.055101\n",
       "     8  -0.022559      0.070065\n",
       "     9   0.143851     -0.039228\n",
       "     10  0.010503     -0.027666\n",
       "     11  0.178337      0.107546\n",
       "     12  0.102136      0.037121\n",
       "2021 1   0.239680     -0.011137\n",
       "     2   0.171594      0.026091\n",
       "     3   0.049449      0.042439\n",
       "     4   0.192898      0.052425\n",
       "     5  -0.011236      0.005486\n",
       "     6   0.109185      0.022214\n",
       "     7   0.200570      0.022748\n",
       "     8   0.151403      0.028990\n",
       "     9   0.218291     -0.047569\n",
       "     10  0.188335      0.069144\n",
       "     11 -0.197804     -0.008334\n",
       "     12 -0.071316      0.043613\n",
       "2022 1  -0.316662     -0.052585\n",
       "     2  -0.114866     -0.031360\n",
       "     3  -0.135395      0.035773\n",
       "     4  -0.039014     -0.001168"
      ]
     },
     "execution_count": 164,
     "metadata": {},
     "output_type": "execute_result"
    }
   ],
   "source": [
    "# 개월수를 인모드를 기준으로 맞춰줍니다\n",
    "stocks = INMD_return.to_frame().join(snp_return.to_frame(),rsuffix='_snp')\n",
    "stocks"
   ]
  },
  {
   "cell_type": "code",
   "execution_count": 165,
   "metadata": {},
   "outputs": [],
   "source": [
    "INMD = stocks.iloc[:,0].values\n",
    "snp  = stocks.iloc[:,1].values"
   ]
  },
  {
   "cell_type": "code",
   "execution_count": 166,
   "metadata": {},
   "outputs": [],
   "source": [
    "def cal_beta(m, s):\n",
    "    n = len(m)\n",
    "    cov = ((s - s.mean()) * (m - m.mean())).sum()\n",
    "    var = np.sum((m - m.mean())**2)\n",
    "    return cov/var"
   ]
  },
  {
   "cell_type": "code",
   "execution_count": 167,
   "metadata": {},
   "outputs": [
    {
     "data": {
      "text/plain": [
       "1.9349128751308342"
      ]
     },
     "execution_count": 167,
     "metadata": {},
     "output_type": "execute_result"
    }
   ],
   "source": [
    "beta = cal_beta(snp,INMD)\n",
    "beta"
   ]
  },
  {
   "cell_type": "markdown",
   "metadata": {},
   "source": [
    "### 3. 리스크 프리미엄 계산"
   ]
  },
  {
   "cell_type": "code",
   "execution_count": 168,
   "metadata": {},
   "outputs": [
    {
     "data": {
      "text/plain": [
       "1962  2    -0.010712\n",
       "      3    -0.026981\n",
       "      4    -0.022250\n",
       "      5     0.007972\n",
       "      6     0.009142\n",
       "              ...   \n",
       "2021  12   -0.060596\n",
       "2022  1     0.204096\n",
       "      2     0.096491\n",
       "      3     0.100101\n",
       "      4     0.127912\n",
       "Length: 723, dtype: float64"
      ]
     },
     "execution_count": 168,
     "metadata": {},
     "output_type": "execute_result"
    }
   ],
   "source": [
    "# 10년 만기 미국채수익률, 어차피 SNP 10년치랑 매칭할꺼라 대충 들고옴\n",
    "fred = Fred(API_KEY)\n",
    "us10 = fred.get_series('DGS10')\n",
    "us10 = us10.groupby([us10.index.year, us10.index.month]).mean()\n",
    "us10_return = us10.pct_change().dropna()\n",
    "us10_return\n"
   ]
  },
  {
   "cell_type": "code",
   "execution_count": 169,
   "metadata": {},
   "outputs": [
    {
     "data": {
      "text/plain": [
       "2012  6     0.039555\n",
       "      7     0.012598\n",
       "      8     0.019763\n",
       "      9     0.024236\n",
       "      10   -0.019789\n",
       "              ...   \n",
       "2021  12    0.043613\n",
       "2022  1    -0.052585\n",
       "      2    -0.031360\n",
       "      3     0.035773\n",
       "      4    -0.001168\n",
       "Name: adjclose, Length: 119, dtype: float64"
      ]
     },
     "execution_count": 169,
     "metadata": {},
     "output_type": "execute_result"
    }
   ],
   "source": [
    "# snp 10년치 들고옴\n",
    "start = datetime.now() - relativedelta(years=10)\n",
    "snp = get_data(\"^GSPC\",start_date=start,interval=\"1mo\")['adjclose'].dropna()\n",
    "snp = snp.groupby([snp.index.year, snp.index.month]).first()\n",
    "snp_return = snp.pct_change().dropna()\n",
    "snp_return\n"
   ]
  },
  {
   "cell_type": "code",
   "execution_count": 170,
   "metadata": {},
   "outputs": [
    {
     "data": {
      "text/html": [
       "<div>\n",
       "<style scoped>\n",
       "    .dataframe tbody tr th:only-of-type {\n",
       "        vertical-align: middle;\n",
       "    }\n",
       "\n",
       "    .dataframe tbody tr th {\n",
       "        vertical-align: top;\n",
       "    }\n",
       "\n",
       "    .dataframe thead th {\n",
       "        text-align: right;\n",
       "    }\n",
       "</style>\n",
       "<table border=\"1\" class=\"dataframe\">\n",
       "  <thead>\n",
       "    <tr style=\"text-align: right;\">\n",
       "      <th></th>\n",
       "      <th></th>\n",
       "      <th>adjclose</th>\n",
       "      <th>0</th>\n",
       "    </tr>\n",
       "  </thead>\n",
       "  <tbody>\n",
       "    <tr>\n",
       "      <th rowspan=\"5\" valign=\"top\">2012</th>\n",
       "      <th>6</th>\n",
       "      <td>0.039555</td>\n",
       "      <td>-0.100268</td>\n",
       "    </tr>\n",
       "    <tr>\n",
       "      <th>7</th>\n",
       "      <td>0.012598</td>\n",
       "      <td>-0.058996</td>\n",
       "    </tr>\n",
       "    <tr>\n",
       "      <th>8</th>\n",
       "      <td>0.019763</td>\n",
       "      <td>0.099298</td>\n",
       "    </tr>\n",
       "    <tr>\n",
       "      <th>9</th>\n",
       "      <td>0.024236</td>\n",
       "      <td>0.026752</td>\n",
       "    </tr>\n",
       "    <tr>\n",
       "      <th>10</th>\n",
       "      <td>-0.019789</td>\n",
       "      <td>0.013366</td>\n",
       "    </tr>\n",
       "    <tr>\n",
       "      <th>...</th>\n",
       "      <th>...</th>\n",
       "      <td>...</td>\n",
       "      <td>...</td>\n",
       "    </tr>\n",
       "    <tr>\n",
       "      <th>2021</th>\n",
       "      <th>12</th>\n",
       "      <td>0.043613</td>\n",
       "      <td>-0.060596</td>\n",
       "    </tr>\n",
       "    <tr>\n",
       "      <th rowspan=\"4\" valign=\"top\">2022</th>\n",
       "      <th>1</th>\n",
       "      <td>-0.052585</td>\n",
       "      <td>0.204096</td>\n",
       "    </tr>\n",
       "    <tr>\n",
       "      <th>2</th>\n",
       "      <td>-0.031360</td>\n",
       "      <td>0.096491</td>\n",
       "    </tr>\n",
       "    <tr>\n",
       "      <th>3</th>\n",
       "      <td>0.035773</td>\n",
       "      <td>0.100101</td>\n",
       "    </tr>\n",
       "    <tr>\n",
       "      <th>4</th>\n",
       "      <td>-0.001168</td>\n",
       "      <td>0.127912</td>\n",
       "    </tr>\n",
       "  </tbody>\n",
       "</table>\n",
       "<p>119 rows × 2 columns</p>\n",
       "</div>"
      ],
      "text/plain": [
       "         adjclose         0\n",
       "2012 6   0.039555 -0.100268\n",
       "     7   0.012598 -0.058996\n",
       "     8   0.019763  0.099298\n",
       "     9   0.024236  0.026752\n",
       "     10 -0.019789  0.013366\n",
       "...           ...       ...\n",
       "2021 12  0.043613 -0.060596\n",
       "2022 1  -0.052585  0.204096\n",
       "     2  -0.031360  0.096491\n",
       "     3   0.035773  0.100101\n",
       "     4  -0.001168  0.127912\n",
       "\n",
       "[119 rows x 2 columns]"
      ]
     },
     "execution_count": 170,
     "metadata": {},
     "output_type": "execute_result"
    }
   ],
   "source": [
    "# snp에 index 맞추기\n",
    "indices = snp_return.to_frame().join(us10_return.to_frame())\n",
    "indices"
   ]
  },
  {
   "cell_type": "code",
   "execution_count": 171,
   "metadata": {},
   "outputs": [],
   "source": [
    "snp  = indices.iloc[:, 0].values\n",
    "us10 = indices.iloc[:, 1].values \n",
    "RP   = snp.mean() - us10.mean()"
   ]
  },
  {
   "cell_type": "code",
   "execution_count": 172,
   "metadata": {},
   "outputs": [
    {
     "data": {
      "text/plain": [
       "0.028309485366983526"
      ]
     },
     "execution_count": 172,
     "metadata": {},
     "output_type": "execute_result"
    }
   ],
   "source": [
    "CAPM =  risk_free_rate + beta*RP\n",
    "CAPM"
   ]
  },
  {
   "cell_type": "code",
   "execution_count": 225,
   "metadata": {},
   "outputs": [
    {
     "data": {
      "text/plain": [
       "2019  10    0.430033\n",
       "      11    0.646944\n",
       "      12   -0.226214\n",
       "2020  1     0.105357\n",
       "      2    -0.239788\n",
       "      3    -0.347298\n",
       "      4     0.210233\n",
       "      5     0.126441\n",
       "      6    -0.033777\n",
       "      7     0.142655\n",
       "      8    -0.022559\n",
       "      9     0.143851\n",
       "      10    0.010503\n",
       "      11    0.178337\n",
       "      12    0.102136\n",
       "2021  1     0.239680\n",
       "      2     0.171594\n",
       "      3     0.049449\n",
       "      4     0.192898\n",
       "      5    -0.011236\n",
       "      6     0.109185\n",
       "      7     0.200570\n",
       "      8     0.151403\n",
       "      9     0.218291\n",
       "      10    0.188335\n",
       "      11   -0.197804\n",
       "      12   -0.071316\n",
       "2022  1    -0.316662\n",
       "      2    -0.114866\n",
       "      3    -0.135395\n",
       "      4    -0.044568\n",
       "Name: adjclose, dtype: float64"
      ]
     },
     "execution_count": 225,
     "metadata": {},
     "output_type": "execute_result"
    }
   ],
   "source": [
    "start = datetime.now() - relativedelta(years=10)\n",
    "INMD = get_data(\"INMD\",start_date=start,interval=\"1mo\")['adjclose'].dropna()\n",
    "INMD = INMD.groupby([INMD.index.year,INMD.index.month]).mean().iloc[-39:,]\n",
    "INMD_return = INMD.pct_change().dropna()\n",
    "INMD_return"
   ]
  },
  {
   "cell_type": "code",
   "execution_count": 226,
   "metadata": {},
   "outputs": [],
   "source": [
    "date = [str(i) for i in INMD_return.index]"
   ]
  },
  {
   "cell_type": "code",
   "execution_count": 232,
   "metadata": {},
   "outputs": [
    {
     "data": {
      "image/png": "[encoded data removed]",
      "text/plain": [
       "<Figure size 864x360 with 1 Axes>"
      ]
     },
     "metadata": {
      "needs_background": "light"
     },
     "output_type": "display_data"
    }
   ],
   "source": [
    "import matplotlib.pyplot as plt\n",
    "plt.figure(figsize=(12, 5)) \n",
    "plt.plot(date, INMD_return,'o-',label='INMD return [mo]')\n",
    "plt.plot(date, INMD_return.rolling(window=12).mean(),'o-',label='INMD return [1y-mva for 3y]')\n",
    "plt.axhline(y=CAPM, color='r', linewidth=1,label='CAPM')\n",
    "plt.axhline(y=INMD_1y_return, color='cyan', linewidth=1,label='1y INMD return')\n",
    "plt.legend()\n",
    "plt.grid(alpha=0.5)\n",
    "plt.xticks(rotation=45)\n",
    "plt.show()"
   ]
  },
  {
   "cell_type": "code",
   "execution_count": 216,
   "metadata": {},
   "outputs": [
    {
     "data": {
      "text/plain": [
       "<matplotlib.axes._subplots.AxesSubplot at 0x1a204bf5a08>"
      ]
     },
     "execution_count": 216,
     "metadata": {},
     "output_type": "execute_result"
    },
    {
     "data": {
      "image/png": "[encoded data removed]",
      "text/plain": [
       "<Figure size 432x288 with 1 Axes>"
      ]
     },
     "metadata": {
      "needs_background": "light"
     },
     "output_type": "display_data"
    }
   ],
   "source": [
    "INMD = get_data(\"INMD\",start_date=start,interval=\"1mo\")['adjclose'].dropna()\n",
    "INMD.plot()"
   ]
  },
  {
   "cell_type": "code",
   "execution_count": 220,
   "metadata": {},
   "outputs": [
    {
     "data": {
      "text/plain": [
       "-0.002084221910148676"
      ]
     },
     "execution_count": 220,
     "metadata": {},
     "output_type": "execute_result"
    }
   ],
   "source": [
    "start = datetime.now() - relativedelta(years=10)\n",
    "INMD = get_data(\"INMD\",start_date=start,interval=\"1mo\")['adjclose'].dropna()\n",
    "INMD = INMD.groupby([INMD.index.year,INMD.index.month]).mean().iloc[-13:,]\n",
    "INMD_1y_return = INMD.pct_change().dropna().mean()\n",
    "INMD_1y_return"
   ]
  },
  {
   "cell_type": "code",
   "execution_count": 223,
   "metadata": {},
   "outputs": [
    {
     "name": "stdout",
     "output_type": "stream",
     "text": [
      "CAPM:  0.028309485366983526\n",
      "1y INMD retunr:  -0.002084221910148676\n"
     ]
    }
   ],
   "source": [
    "print(\"CAPM: \",CAPM)\n",
    "print(\"1y INMD retunr: \",INMD_1y_return)"
   ]
  },
  {
   "cell_type": "code",
   "execution_count": null,
   "metadata": {},
   "outputs": [],
   "source": []
  }
 ],
 "metadata": {
  "interpreter": {
   "hash": "9362ec3283912eb5d8b866c400895abeb1aceee8d40c452ceca85c9503e96419"
  },
  "kernelspec": {
   "display_name": "Python 3.7.5 ('base')",
   "language": "python",
   "name": "python3"
  },
  "language_info": {
   "codemirror_mode": {
    "name": "ipython",
    "version": 3
   },
   "file_extension": ".py",
   "mimetype": "text/x-python",
   "name": "python",
   "nbconvert_exporter": "python",
   "pygments_lexer": "ipython3",
   "version": "3.7.5"
  },
  "orig_nbformat": 4
 },
 "nbformat": 4,
 "nbformat_minor": 2
}
