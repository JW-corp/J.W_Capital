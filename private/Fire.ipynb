{
  "nbformat": 4,
  "nbformat_minor": 0,
  "metadata": {
    "colab": {
      "name": "Fire.ipynb",
      "provenance": [],
      "collapsed_sections": []
    },
    "kernelspec": {
      "name": "python3",
      "display_name": "Python 3"
    },
    "language_info": {
      "name": "python"
    }
  },
  "cells": [
    {
      "cell_type": "markdown",
      "metadata": {
        "id": "t_WaqISndHmE"
      },
      "source": [
        "### 나의 Fire 목표\n",
        " - 40살에 경제적 자유 달성, 100살까지 60년 동안의 필요한 돈을 계산한다  \n",
        " - 인플레이션은 연3%로 가정한다\n",
        " 1. 월생활비 250\n",
        " 2. 연 비즈니스석 비행기값 2회 (1200)\n",
        " 3. 월 호캉스 2회 (40)\n",
        " 4. 월 술파티 2회 (40)\n",
        " 5. 주 택시값 (3)\n",
        " 6. 월세 300에 오피스텔 혹은 20억 실거주 부동산\n"
      ]
    },
    {
      "cell_type": "code",
      "metadata": {
        "id": "3yuREWMcdvbh"
      },
      "source": [
        "basic_per_year = 250*12\n",
        "airplane_per_year = 300*2*2\n",
        "hotel_per_year = 40 *12\n",
        "party_per_year  = 40 * 12\n",
        "taxi_per_year = 3*52\n",
        "rent=300*12"
      ],
      "execution_count": 1,
      "outputs": []
    },
    {
      "cell_type": "code",
      "metadata": {
        "colab": {
          "base_uri": "https://localhost:8080/"
        },
        "id": "nDjLwmIMchUA",
        "outputId": "d26f28d3-1e4c-49e9-ea28-aa6524054df6"
      },
      "source": [
        "#tot_per_year = basic_per_year + airplane_per_year + hotel_per_year + party_per_year + taxi_per_year + rent\n",
        "tot_per_year = basic_per_year + airplane_per_year + hotel_per_year + party_per_year + taxi_per_year\n",
        "tot_per_year"
      ],
      "execution_count": 2,
      "outputs": [
        {
          "output_type": "execute_result",
          "data": {
            "text/plain": [
              "5316"
            ]
          },
          "metadata": {
            "tags": []
          },
          "execution_count": 2
        }
      ]
    },
    {
      "cell_type": "markdown",
      "metadata": {
        "id": "5aK1AbbSd2JU"
      },
      "source": [
        "10년후 물가를 적용해서 시작 금액을 계산"
      ]
    },
    {
      "cell_type": "code",
      "metadata": {
        "colab": {
          "base_uri": "https://localhost:8080/"
        },
        "id": "yb94AkRmcq4n",
        "outputId": "60ba311e-44e6-4f1f-e188-4612bfcd4347"
      },
      "source": [
        "start_year = tot_per_year * (1+0.03)**10\n",
        "start_year"
      ],
      "execution_count": 3,
      "outputs": [
        {
          "output_type": "execute_result",
          "data": {
            "text/plain": [
              "7144.259472593354"
            ]
          },
          "metadata": {
            "tags": []
          },
          "execution_count": 3
        }
      ]
    },
    {
      "cell_type": "markdown",
      "metadata": {
        "id": "Nm5uKWgLeC3j"
      },
      "source": [
        "40세 부터 100세까지 누적 필요금액 계산"
      ]
    },
    {
      "cell_type": "code",
      "metadata": {
        "colab": {
          "base_uri": "https://localhost:8080/"
        },
        "id": "3VQo2ZQ-czOf",
        "outputId": "ad56fe1f-47c4-4d12-9018-b5f2c6ee919f"
      },
      "source": [
        "sum = 0\n",
        "for idx,i in enumerate(range(61)):\n",
        "  if idx==0:\n",
        "    sum_ =start_year\n",
        "  else:\n",
        "    sum_ += start_year * (1+0.03)\n",
        "  print(idx+40,sum_)"
      ],
      "execution_count": 4,
      "outputs": [
        {
          "output_type": "stream",
          "text": [
            "40 7144.259472593354\n",
            "41 14502.846729364508\n",
            "42 21861.433986135664\n",
            "43 29220.02124290682\n",
            "44 36578.608499677975\n",
            "45 43937.19575644913\n",
            "46 51295.78301322029\n",
            "47 58654.37026999144\n",
            "48 66012.95752676259\n",
            "49 73371.54478353374\n",
            "50 80730.13204030489\n",
            "51 88088.71929707604\n",
            "52 95447.30655384719\n",
            "53 102805.89381061833\n",
            "54 110164.48106738948\n",
            "55 117523.06832416063\n",
            "56 124881.65558093178\n",
            "57 132240.24283770294\n",
            "58 139598.8300944741\n",
            "59 146957.41735124527\n",
            "60 154316.00460801643\n",
            "61 161674.5918647876\n",
            "62 169033.17912155876\n",
            "63 176391.76637832992\n",
            "64 183750.35363510108\n",
            "65 191108.94089187225\n",
            "66 198467.5281486434\n",
            "67 205826.11540541457\n",
            "68 213184.70266218574\n",
            "69 220543.2899189569\n",
            "70 227901.87717572806\n",
            "71 235260.46443249923\n",
            "72 242619.0516892704\n",
            "73 249977.63894604155\n",
            "74 257336.22620281272\n",
            "75 264694.81345958385\n",
            "76 272053.400716355\n",
            "77 279411.9879731262\n",
            "78 286770.57522989734\n",
            "79 294129.1624866685\n",
            "80 301487.74974343966\n",
            "81 308846.3370002108\n",
            "82 316204.924256982\n",
            "83 323563.51151375315\n",
            "84 330922.0987705243\n",
            "85 338280.6860272955\n",
            "86 345639.27328406664\n",
            "87 352997.8605408378\n",
            "88 360356.44779760897\n",
            "89 367715.03505438013\n",
            "90 375073.6223111513\n",
            "91 382432.20956792246\n",
            "92 389790.7968246936\n",
            "93 397149.3840814648\n",
            "94 404507.97133823595\n",
            "95 411866.5585950071\n",
            "96 419225.1458517783\n",
            "97 426583.73310854944\n",
            "98 433942.3203653206\n",
            "99 441300.90762209176\n",
            "100 448659.4948788629\n"
          ],
          "name": "stdout"
        }
      ]
    },
    {
      "cell_type": "markdown",
      "metadata": {
        "id": "VUJMkoDyesIT"
      },
      "source": [
        "아파트에20억 사용, 월세X 일경우"
      ]
    },
    {
      "cell_type": "code",
      "metadata": {
        "colab": {
          "base_uri": "https://localhost:8080/"
        },
        "id": "1qo7dmoweflW",
        "outputId": "dc059f60-25bf-4ecd-f5be-694fd63297eb"
      },
      "source": [
        "448659 + 200000*(1+0.03)**10"
      ],
      "execution_count": 5,
      "outputs": [
        {
          "output_type": "execute_result",
          "data": {
            "text/plain": [
              "717442.2758688245"
            ]
          },
          "metadata": {
            "tags": []
          },
          "execution_count": 5
        }
      ]
    },
    {
      "cell_type": "markdown",
      "metadata": {
        "id": "Iwq6Fey_hWH_"
      },
      "source": [
        "실거주용 주택 소유X, 월세300으로 평생 살기"
      ]
    },
    {
      "cell_type": "code",
      "metadata": {
        "colab": {
          "base_uri": "https://localhost:8080/"
        },
        "id": "l1lfEeEQhSov",
        "outputId": "af9b8e56-14b2-47ad-ff62-27df8ff9aaeb"
      },
      "source": [
        "752492"
      ],
      "execution_count": 6,
      "outputs": [
        {
          "output_type": "execute_result",
          "data": {
            "text/plain": [
              "752492"
            ]
          },
          "metadata": {
            "tags": []
          },
          "execution_count": 6
        }
      ]
    },
    {
      "cell_type": "markdown",
      "metadata": {
        "id": "iX45SaP-D-Gl"
      },
      "source": [
        "### todo: 연 수익률 N% 로 투자자금을 굴렸을 경우, 40세에 얼마로 시작하면 가능한지 해볼것"
      ]
    },
    {
      "cell_type": "code",
      "metadata": {
        "id": "t7-mO5ldEEuw"
      },
      "source": [
        ""
      ],
      "execution_count": null,
      "outputs": []
    }
  ]
}