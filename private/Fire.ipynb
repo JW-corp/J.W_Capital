{
  "nbformat": 4,
  "nbformat_minor": 0,
  "metadata": {
    "colab": {
      "name": "Fire.ipynb",
      "provenance": [],
      "collapsed_sections": []
    },
    "kernelspec": {
      "name": "python3",
      "display_name": "Python 3"
    },
    "language_info": {
      "name": "python"
    }
  },
  "cells": [
    {
      "cell_type": "markdown",
      "metadata": {
        "id": "t_WaqISndHmE"
      },
      "source": [
        "### 나의 Fire 목표\n",
        " - 40살에 경제적 자유 달성, 100살까지 60년 동안의 필요한 돈을 계산한다  \n",
        " - 인플레이션은 연3%로 가정한다\n",
        " 1. 월생활비 250\n",
        " 2. 연 비즈니스석 비행기값 2회 (1200)\n",
        " 3. 월 호캉스 2회 (40)\n",
        " 4. 월 술파티 2회 (40)\n",
        " 5. 주 택시값 (3)\n",
        " 6. 5억 실거주 부동산\n"
      ]
    },
    {
      "cell_type": "code",
      "metadata": {
        "id": "3yuREWMcdvbh"
      },
      "source": [
        "basic_per_year = 250*12\n",
        "airplane_per_year = 300*2*2\n",
        "hotel_per_year = 40 *12\n",
        "party_per_year  = 40 * 12\n",
        "taxi_per_year = 3*52\n",
        "rent=300*12"
      ],
      "execution_count": null,
      "outputs": []
    },
    {
      "cell_type": "code",
      "metadata": {
        "colab": {
          "base_uri": "https://localhost:8080/"
        },
        "id": "nDjLwmIMchUA",
        "outputId": "c7ce5abb-1095-43af-c425-420918c4ae2b"
      },
      "source": [
        "#tot_per_year = basic_per_year + airplane_per_year + hotel_per_year + party_per_year + taxi_per_year + rent\n",
        "tot_per_year = basic_per_year + airplane_per_year + hotel_per_year + party_per_year + taxi_per_year\n",
        "tot_per_year"
      ],
      "execution_count": null,
      "outputs": [
        {
          "output_type": "execute_result",
          "data": {
            "text/plain": [
              "5316"
            ]
          },
          "metadata": {
            "tags": []
          },
          "execution_count": 18
        }
      ]
    },
    {
      "cell_type": "markdown",
      "metadata": {
        "id": "5aK1AbbSd2JU"
      },
      "source": [
        "10년후 물가를 적용해서 시작 금액을 계산"
      ]
    },
    {
      "cell_type": "code",
      "metadata": {
        "colab": {
          "base_uri": "https://localhost:8080/"
        },
        "id": "yb94AkRmcq4n",
        "outputId": "ab1ec376-2b4b-4ba1-fc99-4140463cc30f"
      },
      "source": [
        "start_year = tot_per_year * (1+0.03)**10\n",
        "start_year"
      ],
      "execution_count": null,
      "outputs": [
        {
          "output_type": "execute_result",
          "data": {
            "text/plain": [
              "7144.259472593354"
            ]
          },
          "metadata": {
            "tags": []
          },
          "execution_count": 19
        }
      ]
    },
    {
      "cell_type": "markdown",
      "metadata": {
        "id": "ZTvuNFfeYVVj"
      },
      "source": [
        "### 년 7144만 의 cash flow 를 창출하는 자산구조를 만들면 된다!\n",
        " - 그러기위한 첫해 필요금액은 178600.0\n",
        " - 년 생활비가 인플레되는걸 고려하고 나의 투자수익률 4% 에 원금 까먹는거 고려하면 첫해 필요금액 두배정도면 되려나?"
      ]
    },
    {
      "cell_type": "code",
      "metadata": {
        "colab": {
          "base_uri": "https://localhost:8080/"
        },
        "id": "r9owU8jZYPN1",
        "outputId": "febe5f12-fb74-47f3-8683-b3eac49940e9"
      },
      "source": [
        "r = 0.04 # 년 수익률\n",
        "N = 7144/r\n",
        "print(N)\n",
        "print(N*2)"
      ],
      "execution_count": 44,
      "outputs": [
        {
          "output_type": "stream",
          "text": [
            "178600.0\n",
            "357200.0\n"
          ],
          "name": "stdout"
        }
      ]
    },
    {
      "cell_type": "code",
      "metadata": {
        "colab": {
          "base_uri": "https://localhost:8080/"
        },
        "id": "2OzfXIfngtFW",
        "outputId": "73b05908-8ed1-4aa0-db09-b5270c17e01c"
      },
      "source": [
        "house = 50000*(1+0.03)**10\n",
        "#house = 2*50000*(1+0.03)**10\n",
        "print(house)"
      ],
      "execution_count": 53,
      "outputs": [
        {
          "output_type": "stream",
          "text": [
            "67195.81896720611\n"
          ],
          "name": "stdout"
        }
      ]
    },
    {
      "cell_type": "code",
      "metadata": {
        "colab": {
          "base_uri": "https://localhost:8080/"
        },
        "id": "uQNjvPKvg7Ml",
        "outputId": "741b0e6d-7807-4597-9e50-2ca6f8aa9b8a"
      },
      "source": [
        "340000 + house"
      ],
      "execution_count": 54,
      "outputs": [
        {
          "output_type": "execute_result",
          "data": {
            "text/plain": [
              "407195.8189672061"
            ]
          },
          "metadata": {
            "tags": []
          },
          "execution_count": 54
        }
      ]
    },
    {
      "cell_type": "markdown",
      "metadata": {
        "id": "-9zKKDyzbzp1"
      },
      "source": [
        "### 최종결론\n",
        " - 집값 제외 34억 \n",
        " - 현재 5억짜리 가치의 집 산다면 41억 필요\n",
        " - 현재 10억짜리 가치의 집 산다면 47억 필요\n",
        " - 부동산 공부의 필요성..\n",
        "  "
      ]
    },
    {
      "cell_type": "code",
      "metadata": {
        "colab": {
          "base_uri": "https://localhost:8080/"
        },
        "id": "nPCxZU-8ZBaN",
        "outputId": "0940b376-7cfa-4826-bd60-38439aa53b87"
      },
      "source": [
        "s=7144 # 첫해 쓸돈\n",
        "r=0.04 # 나의 수익률\n",
        "N= 340000 # 은퇴후 총 자산\n",
        "for idx,i in enumerate(range(61)):\n",
        "  anual_income = N*r \n",
        "  s = s*(1+0.03)\n",
        "  N = N + anual_income - s \n",
        "  print(idx+41,'income-cotst: {0}, total: {1} '.format(anual_income - s,N))\n",
        "  \n",
        "  "
      ],
      "execution_count": 55,
      "outputs": [
        {
          "output_type": "stream",
          "text": [
            "41 income-cotst: 6241.679999999999, total: 346241.68 \n",
            "42 income-cotst: 6270.597599999999, total: 352512.27760000003 \n",
            "43 income-cotst: 6294.049416, total: 358806.32701600005 \n",
            "44 income-cotst: 6311.618142000002, total: 365117.94515800005 \n",
            "45 income-cotst: 6322.863819520802, total: 371440.80897752085 \n",
            "46 income-cotst: 6327.322752697659, total: 377768.13173021853 \n",
            "47 income-cotst: 6324.506374613471, total: 384092.638104832 \n",
            "48 income-cotst: 6313.900062760149, total: 390406.53816759214 \n",
            "49 income-cotst: 6294.961901427561, total: 396701.5000690197 \n",
            "50 income-cotst: 6267.121388726378, total: 402968.6214577461 \n",
            "51 income-cotst: 6229.778085854401, total: 409198.3995436005 \n",
            "52 income-cotst: 6182.3002061149145, total: 415380.69974971545 \n",
            "53 income-cotst: 6124.023141090642, total: 421504.7228908061 \n",
            "54 income-cotst: 6054.247921267326, total: 427558.97081207344 \n",
            "55 income-cotst: 5972.239608287075, total: 433531.2104203605 \n",
            "56 income-cotst: 5877.225615892681, total: 439408.4360362532 \n",
            "57 income-cotst: 5768.393956500733, total: 445176.82999275386 \n",
            "58 income-cotst: 5644.891410212278, total: 450821.7214029661 \n",
            "59 income-cotst: 5505.821612935833, total: 456327.54301590193 \n",
            "60 income-cotst: 5350.24306015778, total: 461677.7860760597 \n",
            "61 income-cotst: 5177.167022749742, total: 466854.95309880946 \n",
            "62 income-cotst: 4985.555371050952, total: 471840.5084698604 \n",
            "63 income-cotst: 4774.31830330595, total: 476614.82677316637 \n",
            "64 income-cotst: 4542.3119743735315, total: 481157.1387475399 \n",
            "65 income-cotst: 4288.336020451879, total: 485445.4747679918 \n",
            "66 income-cotst: 4011.1309753864625, total: 489456.6057433783 \n",
            "67 income-cotst: 3709.375573941925, total: 493165.9813173202 \n",
            "68 income-cotst: 3381.6839372258037, total: 496547.665254546 \n",
            "69 income-cotst: 3026.602635250827, total: 499574.2678897968 \n",
            "70 income-cotst: 2642.6076214129316, total: 502216.8755112097 \n",
            "71 income-cotst: 2228.10103344408, total: 504444.9765446538 \n",
            "72 income-cotst: 1781.407855171714, total: 506226.3843998256 \n",
            "73 income-cotst: 1300.7724331801473, total: 507527.1568330057 \n",
            "74 income-cotst: 784.3548422229687, total: 508311.5116752287 \n",
            "75 income-cotst: 230.22709297897018, total: 508541.73876820767 \n",
            "76 income-cotst: -363.6308245227774, total: 508178.1079436849 \n",
            "77 income-cotst: -999.3350687612219, total: 507178.7728749237 \n",
            "78 income-cotst: -1679.1022531069248, total: 505499.67062181677 \n",
            "79 income-cotst: -2405.25393827432, total: 503094.4166835424 \n",
            "80 income-cotst: -3180.2213186997033, total: 499914.1953648427 \n",
            "81 income-cotst: -4006.550111028937, total: 495907.6452538138 \n",
            "82 income-cotst: -4886.905653238773, total: 491020.73960057506 \n",
            "83 income-cotst: -5824.078223270066, total: 485196.661377305 \n",
            "84 income-cotst: -6820.9885864196585, total: 478375.6727908853 \n",
            "85 income-cotst: -7880.693781121801, total: 470494.9790097635 \n",
            "86 income-cotst: -9006.393153149394, total: 461488.58585661417 \n",
            "87 income-cotst: -10201.434648681567, total: 451287.15120793256 \n",
            "88 income-cotst: -11469.321377117216, total: 439817.8298308153 \n",
            "89 income-cotst: -12813.718454964943, total: 427004.1113758504 \n",
            "90 income-cotst: -14238.460142609467, total: 412765.6512332409 \n",
            "91 income-cotst: -15747.557286243155, total: 397018.0939469978 \n",
            "92 income-cotst: -17345.205077760067, total: 379672.88886923774 \n",
            "93 income-cotst: -19035.791145939664, total: 360637.09772329807 \n",
            "94 income-cotst: -20823.90399279853, total: 339813.19373049954 \n",
            "95 income-cotst: -22714.34178956238, total: 317098.85194093717 \n",
            "96 income-cotst: -24712.12154730835, total: 292386.7303936288 \n",
            "97 income-cotst: -26822.48867794906, total: 265564.24171567976 \n",
            "98 income-cotst: -29050.92696187785, total: 236513.31475380188 \n",
            "99 income-cotst: -31403.168939268115, total: 205110.14581453378 \n",
            "100 income-cotst: -33885.20674272144, total: 171224.93907181232 \n",
            "101 income-cotst: -36503.30338968939, total: 134721.6356821229 \n"
          ],
          "name": "stdout"
        }
      ]
    },
    {
      "cell_type": "markdown",
      "metadata": {
        "id": "Nm5uKWgLeC3j"
      },
      "source": [
        "### 번외편: 40세 부터 100세까지 누적 필요금액 계산"
      ]
    },
    {
      "cell_type": "code",
      "metadata": {
        "colab": {
          "base_uri": "https://localhost:8080/"
        },
        "id": "3VQo2ZQ-czOf",
        "outputId": "056eeb9c-0eaa-4e6f-c06a-119bad437eb9"
      },
      "source": [
        "sum = 0\n",
        "for idx,i in enumerate(range(61)):\n",
        "  if idx==0:\n",
        "    sum_ =start_year\n",
        "  else:\n",
        "    start_year = start_year*(1.03)\n",
        "    sum_ += start_year \n",
        "  print(idx+40,start_year,sum_)"
      ],
      "execution_count": null,
      "outputs": [
        {
          "output_type": "stream",
          "text": [
            "40 7144.259472593354 7144.259472593354\n",
            "41 7358.587256771155 14502.846729364508\n",
            "42 7579.34487447429 22082.191603838797\n",
            "43 7806.7252207085185 29888.916824547316\n",
            "44 8040.926977329775 37929.84380187709\n",
            "45 8282.154786649668 46211.99858852676\n",
            "46 8530.619430249159 54742.61801877592\n",
            "47 8786.538013156634 63529.15603193255\n",
            "48 9050.134153551333 72579.29018548389\n",
            "49 9321.638178157873 81900.92836364175\n",
            "50 9601.287323502609 91502.21568714436\n",
            "51 9889.325943207688 101391.54163035205\n",
            "52 10186.00572150392 111577.54735185596\n",
            "53 10491.585893149038 122069.133245005\n",
            "54 10806.333469943509 132875.4667149485\n",
            "55 11130.523474041815 144005.9901889903\n",
            "56 11464.43917826307 155470.42936725338\n",
            "57 11808.372353610963 167278.80172086434\n",
            "58 12162.623524219292 179441.42524508364\n",
            "59 12527.502229945872 191968.92747502952\n",
            "60 12903.327296844249 204872.25477187376\n",
            "61 13290.427115749577 218162.68188762333\n",
            "62 13689.139929222065 231851.8218168454\n",
            "63 14099.814127098727 245951.63594394413\n",
            "64 14522.80855091169 260474.44449485582\n",
            "65 14958.492807439041 275432.9373022949\n",
            "66 15407.247591662213 290840.1848939571\n",
            "67 15869.46501941208 306709.6499133692\n",
            "68 16345.548969994443 323055.1988833636\n",
            "69 16835.915439094275 339891.1143224579\n",
            "70 17340.992902267102 357232.107224725\n",
            "71 17861.222689335114 375093.32991406013\n",
            "72 18397.05937001517 393490.3892840753\n",
            "73 18948.971151115624 412439.3604351909\n",
            "74 19517.440285649092 431956.80072084\n",
            "75 20102.963494218566 452059.76421505853\n",
            "76 20706.052399045122 472765.8166141037\n",
            "77 21327.233971016478 494093.05058512016\n",
            "78 21967.050990146974 516060.10157526715\n",
            "79 22626.062519851384 538686.1640951185\n",
            "80 23304.844395446926 561991.0084905655\n",
            "81 24003.989727310334 585994.9982178758\n",
            "82 24724.109419129643 610719.1076370055\n",
            "83 25465.832701703534 636184.940338709\n",
            "84 26229.80768275464 662414.7480214636\n",
            "85 27016.70191323728 689431.449934701\n",
            "86 27827.2029706344 717258.6529053354\n",
            "87 28662.01905975343 745920.6719650888\n",
            "88 29521.879631546035 775442.5515966348\n",
            "89 30407.536020492418 805850.0876171272\n",
            "90 31319.762101107193 837169.8497182344\n",
            "91 32259.35496414041 869429.2046823748\n",
            "92 33227.13561306462 902656.3402954395\n",
            "93 34223.949681456565 936880.289976896\n",
            "94 35250.66817190026 972130.9581487962\n",
            "95 36308.188217057264 1008439.1463658535\n",
            "96 37397.433863568986 1045836.5802294224\n",
            "97 38519.35687947606 1084355.9371088985\n",
            "98 39674.93758586034 1124030.8746947588\n",
            "99 40865.18571343615 1164896.060408195\n",
            "100 42091.141284839236 1206987.2016930343\n"
          ],
          "name": "stdout"
        }
      ]
    }
  ]
}