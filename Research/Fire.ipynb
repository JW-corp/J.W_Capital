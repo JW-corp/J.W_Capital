{
  "nbformat": 4,
  "nbformat_minor": 0,
  "metadata": {
    "colab": {
      "name": "Fire.ipynb",
      "provenance": [],
      "collapsed_sections": [],
      "toc_visible": true
    },
    "kernelspec": {
      "name": "python3",
      "display_name": "Python 3"
    },
    "language_info": {
      "name": "python"
    }
  },
  "cells": [
    {
      "cell_type": "markdown",
      "metadata": {
        "id": "t_WaqISndHmE"
      },
      "source": [
        "# 나의 Fire 목표 세우기\n",
        "---\n",
        "\n"
      ]
    },
    {
      "cell_type": "markdown",
      "metadata": {
        "id": "m5Hp8qf_KaHY"
      },
      "source": [
        "### 1. 버킷리스트: 년 얼마 지출의 삶을 살지 정한다\n",
        " - 40살에 경제적 자유 달성, 100살까지 60년 동안의 필요한 돈을 계산한다  \n",
        " - 인플레이션은 연3%로 가정한다\n",
        " 1. 월생활비 250\n",
        " 2. 연 비즈니스석 비행기값 2회 (1200)\n",
        " 3. 월 호캉스 2회 (40)\n",
        " 4. 월 술파티 2회 (40)\n",
        " 5. 주 택시값 (3)\n",
        " 6. 5억 실거주 부동산"
      ]
    },
    {
      "cell_type": "code",
      "metadata": {
        "id": "3yuREWMcdvbh",
        "colab": {
          "base_uri": "https://localhost:8080/"
        },
        "outputId": "d15af7de-6772-49a8-80eb-9ce106b7d28a"
      },
      "source": [
        "basic_per_year    = 250*12\n",
        "airplane_per_year = 1200\n",
        "hotel_per_year    = 40*12\n",
        "party_per_year    = 40*12\n",
        "taxi_per_year     = 3*52\n",
        "tot_per_year = basic_per_year + airplane_per_year + hotel_per_year + party_per_year + taxi_per_year\n",
        "tot_per_year"
      ],
      "execution_count": 38,
      "outputs": [
        {
          "output_type": "execute_result",
          "data": {
            "text/plain": [
              "5316"
            ]
          },
          "metadata": {},
          "execution_count": 38
        }
      ]
    },
    {
      "cell_type": "markdown",
      "metadata": {
        "id": "5aK1AbbSd2JU"
      },
      "source": [
        "### 2. 경제적 자유시점의 물가를 적용해서 첫해 생활비값을 구한다"
      ]
    },
    {
      "cell_type": "code",
      "metadata": {
        "colab": {
          "base_uri": "https://localhost:8080/"
        },
        "id": "yb94AkRmcq4n",
        "outputId": "32bfa2c2-50de-46bf-e822-1faa4f68063a"
      },
      "source": [
        "my_age =28 # 현재나이\n",
        "my_financial_freedom_age = 40 # 경제적 자유 목표 나이\n",
        "Inflation= 0.03 # 물가상승률\n",
        "\n",
        "start_year = tot_per_year * (1+Inflation)**(my_financial_freedom_age -my_age)\n",
        "start_year"
      ],
      "execution_count": 39,
      "outputs": [
        {
          "output_type": "execute_result",
          "data": {
            "text/plain": [
              "7579.344874474289"
            ]
          },
          "metadata": {},
          "execution_count": 39
        }
      ]
    },
    {
      "cell_type": "markdown",
      "metadata": {
        "id": "ZTvuNFfeYVVj"
      },
      "source": [
        "나같은 경우 년 7580만 의 유출을 버틸수 있는 자산이 있어야한다\n"
      ]
    },
    {
      "cell_type": "markdown",
      "metadata": {
        "id": "sTlcPIGWIXfD"
      },
      "source": [
        "### 3. 이상적인 경우 (지출의 물가상승 반영x)의 시드머니를 구한다  \n",
        "이 값부터 시작해서 점점 금액을 늘려가며, 적정 시드머니가 얼마인지를 시뮬레이션할것이다."
      ]
    },
    {
      "cell_type": "code",
      "metadata": {
        "id": "7l0ezpOguBJu",
        "colab": {
          "base_uri": "https://localhost:8080/"
        },
        "outputId": "bf3618eb-6214-4d4b-81b5-b72a54f34a93"
      },
      "source": [
        "# 물가상승분 반영안된 디폴트 자금 계산\n",
        "\n",
        "age_end = 100 # 예상 사망나이\n",
        "s= 7580# 첫해 쓸돈\n",
        "r=0.04 # 나의 목표 연 평균 수익률\n",
        "\n",
        "life_term = age_end - my_financial_freedom_age\n",
        "N = s*life_term / ((1+r)**life_term)\n",
        "N"
      ],
      "execution_count": 42,
      "outputs": [
        {
          "output_type": "execute_result",
          "data": {
            "text/plain": [
              "43233.47038430726"
            ]
          },
          "metadata": {},
          "execution_count": 42
        }
      ]
    },
    {
      "cell_type": "markdown",
      "metadata": {
        "id": "aLJ9KI0lH-vk"
      },
      "source": [
        "### 4. 시뮬레이터: 물가상승률, 목표수익률을 고려했다\n",
        "시드머니(N) 값으로 은퇴할 시 파산하는가? True or False 를 반환한다  \n",
        "원금을 까먹으면서 원금이 -가 되면 파산으로 간주한다"
      ]
    },
    {
      "cell_type": "code",
      "metadata": {
        "id": "nPCxZU-8ZBaN"
      },
      "source": [
        "def simulator(N,s=7580,r=0.04,isprint=True):\n",
        "  for idx,i in enumerate(range(61)):\n",
        "    if idx==0: \n",
        "      N = N-s # 첫해 생활비 지출\n",
        "    else:\n",
        "      N = N + anual_income - s # 이자반영, 수입반영, 생활비 지출 \n",
        "    \n",
        "    anual_income = N*r # 이자계산 \n",
        "    s = s*(1+0.03)     # 물가 상승률 계산 \n",
        "\n",
        "    if isprint:\n",
        "      print(idx+41,'income-cotst: {0}, total: {1} '.format(anual_income - s,N))\n",
        "    if N <=0: # 파산시 True 반환, loop 탈출\n",
        "      return True\n",
        "      \n",
        "  return False # 자금이 충분할시 False 반환"
      ],
      "execution_count": 47,
      "outputs": []
    },
    {
      "cell_type": "markdown",
      "metadata": {
        "id": "i2DCZPxiITYF"
      },
      "source": [
        "이상적인 경우의 시드머니로는 6년만에 파산한다\n"
      ]
    },
    {
      "cell_type": "code",
      "metadata": {
        "colab": {
          "base_uri": "https://localhost:8080/"
        },
        "id": "yTu6fok4Ao7_",
        "outputId": "c2f49d5f-d907-4c0a-ff2c-7642e2f5b52d"
      },
      "source": [
        "simulator(N)"
      ],
      "execution_count": 44,
      "outputs": [
        {
          "output_type": "stream",
          "name": "stdout",
          "text": [
            "41 income-cotst: -6381.2611846277105, total: 35653.47038430726 \n",
            "42 income-cotst: -6870.73363201282, total: 29272.209199679543 \n",
            "43 income-cotst: -7386.811637293333, total: 22401.475567666726 \n",
            "44 income-cotst: -7930.770222585066, total: 15014.663930373392 \n",
            "45 income-cotst: -8503.94173488247, total: 7083.893707788326 \n",
            "46 income-cotst: -9107.71832877359, total: -1420.0480270941443 \n"
          ]
        },
        {
          "output_type": "execute_result",
          "data": {
            "text/plain": [
              "True"
            ]
          },
          "metadata": {},
          "execution_count": 44
        }
      ]
    },
    {
      "cell_type": "markdown",
      "metadata": {
        "id": "DTHXdGpmI9z7"
      },
      "source": [
        "### 5. 경제적 자유금액을 추정한다"
      ]
    },
    {
      "cell_type": "code",
      "metadata": {
        "colab": {
          "base_uri": "https://localhost:8080/"
        },
        "id": "rUQjAwqSBjK8",
        "outputId": "c1e0868b-28bb-4e83-efa0-9fe095ce9389"
      },
      "source": [
        "isbankrupt = simulator(N,s,r,isprint=False)\n",
        "loop=0\n",
        "jump_rate = 0.1\n",
        "increase  = 1\n",
        "\n",
        "while isbankrupt:\n",
        "  increase  = increase + jump_rate\n",
        "  seed      = N * increase\n",
        "  isbankrupt = simulator(seed,s,r,isprint=False)\n",
        "  loop+=1\n",
        "  print(\"{0}th loop --> You need {1}\".format(loop,seed))"
      ],
      "execution_count": 45,
      "outputs": [
        {
          "output_type": "stream",
          "name": "stdout",
          "text": [
            "1th loop --> You need 47556.817422737986\n",
            "2th loop --> You need 51880.164461168715\n",
            "3th loop --> You need 56203.511499599445\n",
            "4th loop --> You need 60526.858538030174\n",
            "5th loop --> You need 64850.2055764609\n",
            "6th loop --> You need 69173.55261489164\n",
            "7th loop --> You need 73496.89965332237\n",
            "8th loop --> You need 77820.2466917531\n",
            "9th loop --> You need 82143.59373018383\n",
            "10th loop --> You need 86466.94076861456\n",
            "11th loop --> You need 90790.28780704529\n",
            "12th loop --> You need 95113.63484547602\n",
            "13th loop --> You need 99436.98188390674\n",
            "14th loop --> You need 103760.32892233747\n",
            "15th loop --> You need 108083.6759607682\n",
            "16th loop --> You need 112407.02299919893\n",
            "17th loop --> You need 116730.37003762966\n",
            "18th loop --> You need 121053.71707606039\n",
            "19th loop --> You need 125377.06411449112\n",
            "20th loop --> You need 129700.41115292185\n",
            "21th loop --> You need 134023.75819135256\n",
            "22th loop --> You need 138347.1052297833\n",
            "23th loop --> You need 142670.45226821402\n",
            "24th loop --> You need 146993.79930664477\n",
            "25th loop --> You need 151317.14634507548\n",
            "26th loop --> You need 155640.49338350623\n",
            "27th loop --> You need 159963.84042193694\n",
            "28th loop --> You need 164287.18746036768\n",
            "29th loop --> You need 168610.5344987984\n",
            "30th loop --> You need 172933.88153722914\n",
            "31th loop --> You need 177257.22857565986\n",
            "32th loop --> You need 181580.57561409057\n",
            "33th loop --> You need 185903.92265252126\n",
            "34th loop --> You need 190227.26969095197\n",
            "35th loop --> You need 194550.6167293827\n",
            "36th loop --> You need 198873.9637678134\n",
            "37th loop --> You need 203197.31080624412\n",
            "38th loop --> You need 207520.65784467483\n",
            "39th loop --> You need 211844.00488310555\n",
            "40th loop --> You need 216167.35192153623\n",
            "41th loop --> You need 220490.69895996695\n",
            "42th loop --> You need 224814.04599839766\n",
            "43th loop --> You need 229137.39303682838\n",
            "44th loop --> You need 233460.7400752591\n",
            "45th loop --> You need 237784.0871136898\n",
            "46th loop --> You need 242107.43415212052\n",
            "47th loop --> You need 246430.7811905512\n",
            "48th loop --> You need 250754.12822898192\n",
            "49th loop --> You need 255077.47526741264\n",
            "50th loop --> You need 259400.82230584335\n",
            "51th loop --> You need 263724.16934427404\n",
            "52th loop --> You need 268047.5163827048\n",
            "53th loop --> You need 272370.86342113547\n",
            "54th loop --> You need 276694.2104595662\n",
            "55th loop --> You need 281017.5574979969\n",
            "56th loop --> You need 285340.9045364276\n",
            "57th loop --> You need 289664.2515748583\n",
            "58th loop --> You need 293987.598613289\n",
            "59th loop --> You need 298310.94565171975\n",
            "60th loop --> You need 302634.29269015044\n",
            "61th loop --> You need 306957.6397285812\n",
            "62th loop --> You need 311280.98676701187\n",
            "63th loop --> You need 315604.33380544255\n",
            "64th loop --> You need 319927.6808438733\n",
            "65th loop --> You need 324251.027882304\n",
            "66th loop --> You need 328574.3749207347\n",
            "67th loop --> You need 332897.7219591654\n",
            "68th loop --> You need 337221.06899759616\n",
            "69th loop --> You need 341544.41603602684\n",
            "70th loop --> You need 345867.7630744575\n",
            "71th loop --> You need 350191.11011288833\n",
            "72th loop --> You need 354514.457151319\n"
          ]
        }
      ]
    },
    {
      "cell_type": "markdown",
      "metadata": {
        "id": "275Has7zGMvY"
      },
      "source": [
        "### 나는 40세 이전 까지 대략 35억3-4천 만원을 모아야한다. 할수있다!!✈"
      ]
    },
    {
      "cell_type": "code",
      "metadata": {
        "id": "IbJGwcu7iF2j",
        "colab": {
          "base_uri": "https://localhost:8080/"
        },
        "outputId": "fde58213-bf10-4e21-8bdb-5bb0fea501cb"
      },
      "source": [
        "simulator(353000,s,r)"
      ],
      "execution_count": 46,
      "outputs": [
        {
          "output_type": "stream",
          "name": "stdout",
          "text": [
            "41 income-cotst: 6009.400000000001, total: 345420 \n",
            "42 income-cotst: 6015.553999999998, total: 351429.39999999997 \n",
            "43 income-cotst: 6014.927499999996, total: 357444.95399999997 \n",
            "44 income-cotst: 6007.038480199997, total: 363459.88149999996 \n",
            "45 income-cotst: 5991.379316013996, total: 369466.91998019995 \n",
            "46 income-cotst: 5967.415564158735, total: 375458.29929621395 \n",
            "47 income-cotst: 5934.584694494391, total: 381425.7148603727 \n",
            "48 income-cotst: 5892.294765276552, total: 387360.29955486715 \n",
            "49 income-cotst: 5839.92303938007, total: 393252.5943201437 \n",
            "50 income-cotst: 5776.814538952503, total: 399092.5173595238 \n",
            "51 income-cotst: 5702.280535847753, total: 404869.33189847635 \n",
            "52 income-cotst: 5615.596975078923, total: 410571.6124343241 \n",
            "53 income-cotst: 5516.002828413259, total: 416187.20940940303 \n",
            "54 income-cotst: 5402.698375110904, total: 421703.21223781625 \n",
            "55 income-cotst: 5274.843406683285, total: 427105.91061292717 \n",
            "56 income-cotst: 5131.5553524156, total: 432380.7540196104 \n",
            "57 income-cotst: 4971.907322261159, total: 437512.309372026 \n",
            "58 income-cotst: 4794.92606357301, total: 442484.2166942872 \n",
            "59 income-cotst: 4599.5898279899775, total: 447279.14275786025 \n",
            "60 income-cotst: 4384.826144639843, total: 451878.73258585023 \n",
            "61 income-cotst: 4149.509495661614, total: 456263.5587304901 \n",
            "62 income-cotst: 3892.4588898813363, total: 460413.0682261517 \n",
            "63 income-cotst: 3612.435330301647, total: 464305.527116033 \n",
            "64 income-cotst: 3308.1391708835217, total: 467917.96244633466 \n",
            "65 income-cotst: 2978.2073579097632, total: 471226.10161721817 \n",
            "66 income-cotst: 2621.2105510227866, total: 474204.30897512793 \n",
            "67 income-cotst: 2235.650118824229, total: 476825.5195261507 \n",
            "68 income-cotst: 1819.9550037105437, total: 479061.1696449749 \n",
            "69 income-cotst: 1372.4784503963092, total: 480881.12464868545 \n",
            "70 income-cotst: 891.4945923456289, total: 482253.6030990818 \n",
            "71 income-cotst: 375.19489009092285, total: 483145.0976914274 \n",
            "72 income-cotst: -178.3155848324277, total: 483520.2925815183 \n",
            "73 income-cotst: -771.0220268685189, total: 483341.9769966859 \n",
            "74 income-cotst: -1405.00394114534, total: 482570.95496981737 \n",
            "75 income-cotst: -2082.4393629892948, total: 481165.95102867205 \n",
            "76 income-cotst: -2805.6092596329545, total: 479083.5116656827 \n",
            "77 income-cotst: -3576.9021218060807, total: 476277.9024060498 \n",
            "78 income-cotst: -4398.81875321977, total: 472701.00028424367 \n",
            "79 income-cotst: -5273.977266286249, total: 468302.1815310239 \n",
            "80 income-cotst: -6205.118292763516, total: 463028.2042647376 \n",
            "81 income-cotst: -7195.11041837465, total: 456823.08597197407 \n",
            "82 income-cotst: -8246.955850827246, total: 449627.9755535994 \n",
            "83 income-cotst: -9363.79633104947, total: 441381.0197027722 \n",
            "84 income-cotst: -10548.919297866258, total: 432017.22337172274 \n",
            "85 income-cotst: -11805.764316762969, total: 421468.30407385645 \n",
            "86 income-cotst: -13137.929783825002, total: 409662.53975709353 \n",
            "87 income-cotst: -14549.179916401266, total: 396524.6099732685 \n",
            "88 income-cotst: -16043.45204251728, total: 381975.43005686725 \n",
            "89 income-cotst: -17624.86420156173, total: 365931.97801435 \n",
            "90 income-cotst: -19297.723069288266, total: 348307.1138127883 \n",
            "91 income-cotst: -21066.532220713798, total: 329009.3907435 \n",
            "92 income-cotst: -22936.000745055968, total: 307942.8585227862 \n",
            "93 income-cotst: -24911.05222743723, total: 285006.8577777302 \n",
            "94 income-cotst: -26996.83411269112, total: 260095.80555029298 \n",
            "95 income-cotst: -29198.72746723985, total: 233098.97143760187 \n",
            "96 income-cotst: -31522.357155671765, total: 203900.243970362 \n",
            "97 income-cotst: -33973.60244933322, total: 172377.88681469022 \n",
            "98 income-cotst: -36558.60808496418, total: 138404.28436535702 \n",
            "99 income-cotst: -39283.79579215009, total: 101845.67628039286 \n",
            "100 income-cotst: -42155.87630913707, total: 62561.880488242765 \n",
            "101 income-cotst: -45181.86190736256, total: 20406.004179105694 \n"
          ]
        },
        {
          "output_type": "execute_result",
          "data": {
            "text/plain": [
              "False"
            ]
          },
          "metadata": {},
          "execution_count": 46
        }
      ]
    },
    {
      "cell_type": "code",
      "metadata": {
        "id": "suBITysNF8Az"
      },
      "source": [
        ""
      ],
      "execution_count": null,
      "outputs": []
    }
  ]
}